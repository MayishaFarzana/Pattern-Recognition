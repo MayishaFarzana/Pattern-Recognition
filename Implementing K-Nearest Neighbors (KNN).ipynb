{
 "cells": [
  {
   "cell_type": "code",
   "execution_count": 114,
   "metadata": {},
   "outputs": [
    {
     "name": "stdout",
     "output_type": "stream",
     "text": [
      "Train Data\n",
      "x =  7 y =  7 class =  1\n",
      "x =  7 y =  4 class =  1\n",
      "x =  6 y =  4 class =  1\n",
      "x =  7 y =  5 class =  1\n",
      "x =  7 y =  6 class =  1\n",
      "x =  6 y =  7 class =  1\n",
      "x =  6 y =  6 class =  1\n",
      "x =  3 y =  4 class =  2\n",
      "x =  2 y =  3 class =  2\n",
      "x =  3 y =  2 class =  2\n",
      "x =  4 y =  3 class =  2\n",
      "x =  3 y =  3 class =  2\n",
      "x =  4 y =  4 class =  2\n",
      "x =  1 y =  4 class =  2\n"
     ]
    },
    {
     "data": {
      "text/plain": [
       "<matplotlib.legend.Legend at 0x2b6c6f41688>"
      ]
     },
     "execution_count": 114,
     "metadata": {},
     "output_type": "execute_result"
    },
    {
     "data": {
      "image/png": "[encoded data removed]",
      "text/plain": [
       "<Figure size 720x576 with 1 Axes>"
      ]
     },
     "metadata": {
      "needs_background": "light"
     },
     "output_type": "display_data"
    }
   ],
   "source": [
    "'''Assignment 4'''\n",
    "'''Mayisha Farzana'''\n",
    "'''ID: 160204028'''\n",
    "'''Problem 1 '''\n",
    "import numpy as np\n",
    "import matplotlib.pyplot as plt\n",
    "ar = np.loadtxt('train_knn.txt',delimiter=\",\",dtype='int32')\n",
    "print('Train Data')\n",
    "br = np.loadtxt('test_knn.txt',delimiter=\",\",dtype='int32')\n",
    "for x in  ar:\n",
    "    print(\"x = \",x[0],\"y = \",x[1],\"class = \",x[2]) #print the class names   \n",
    "ar_clas1=np.array([row for row in ar if row[2]==1])\n",
    "ar_clas2=np.array([row for row in ar if row[2]==2])\n",
    "x_train_1=ar_clas1[:,0]\n",
    "y_train_1=ar_clas1[:,1]\n",
    "x_train_2=ar_clas2[:,0]\n",
    "y_train_2=ar_clas2[:,1]\n",
    "fig,ax=plt.subplots()#to show it in the same figure\n",
    "plt.title(\"Problem 1 output\")\n",
    "plt.xlabel('x-axis', color='black')\n",
    "plt.ylabel('y-axis', color='black')\n",
    "ax.scatter(x_train_1,y_train_1,marker='o',color='r',label='Train class 1')\n",
    "ax.scatter(x_train_2,y_train_2,marker='*',color='black',label='Train class 2')\n",
    "fig.set_figheight(8)\n",
    "fig.set_figwidth(10)\n",
    "ax.legend()#show the output figure"
   ]
  },
  {
   "cell_type": "code",
   "execution_count": 115,
   "metadata": {},
   "outputs": [
    {
     "name": "stdout",
     "output_type": "stream",
     "text": [
      "Test Data:\n",
      "x= 3 y= 7\n",
      "x= 7 y= 7\n",
      "x= 4 y= 3\n",
      "x= 2 y= 8\n",
      "x= 3 y= 5\n",
      "x= 1 y= 2\n",
      "x= 4 y= 8\n",
      "x= 8 y= 3\n",
      "x= 8 y= 4\n"
     ]
    }
   ],
   "source": [
    "print('Test Data:')\n",
    "# Test distance function\n",
    "for i in br:\n",
    "    print('x=',i[0],'y=',i[1])   "
   ]
  },
  {
   "cell_type": "code",
   "execution_count": 116,
   "metadata": {},
   "outputs": [],
   "source": [
    "from math import sqrt\n",
    "#Implementing KNN algorithm\n",
    "#Calculate the Euclidean distance between two vectors\n",
    "def euclidean_distance(x1,y1,x2,y2):\n",
    "    return sqrt((x1-x2)**2+(y1-y2)**2)\n",
    "def distance(x,y):\n",
    "    return sqrt((x[0]-y[0])**2+(x[1]-y[1])**2)"
   ]
  },
  {
   "cell_type": "code",
   "execution_count": 117,
   "metadata": {},
   "outputs": [
    {
     "name": "stdout",
     "output_type": "stream",
     "text": [
      "2.0\n",
      "4.0\n"
     ]
    }
   ],
   "source": [
    "print(euclidean_distance(1,2,3,2))\n",
    "print(distance(br[0],br[1]))"
   ]
  },
  {
   "cell_type": "code",
   "execution_count": 153,
   "metadata": {},
   "outputs": [],
   "source": [
    "'''KNN ALGORITHM'''\n",
    "out=open('prediction.txt','a')\n",
    "\n",
    "def KNN(k,point):\n",
    "    best=[]\n",
    "    out.write(\"Test Point: {},{}\\n\".format(point[0],point[1]))\n",
    "    cnt_class1=0\n",
    "    cnt_class2=0\n",
    "    for item in ar:\n",
    "        dis=distance(point,item)\n",
    "        #print(item,'distance',dis)\n",
    "        best.append((dis,item[2]))\n",
    "        #print(best)\n",
    "    best.sort(key=lambda x:x[0])\n",
    "    for i in range(k):\n",
    "        out.write(\"Distance {}: {:.2f} \\t Class:{}\\n\".format(i+1,best[i][0],best[i][1]))\n",
    "    for i in range(k):        \n",
    "        if(best[i][1]==1):\n",
    "            cnt_class1+=1\n",
    "        else:\n",
    "            cnt_class2+=1\n",
    " #   out.write(\"cnt = {} - {}\\n\".format(cnt_class1, cnt_class2))\n",
    "      \n",
    "    if(cnt_class1>=cnt_class2):\n",
    "        out.write(\"Predicted Class {}\\n\".format(1))    \n",
    "    else:\n",
    "        out.write(\"Predicted Class {}\\n\".format(2))\n",
    "    out.write(\"\\n\")      "
   ]
  },
  {
   "cell_type": "code",
   "execution_count": 154,
   "metadata": {},
   "outputs": [
    {
     "name": "stdin",
     "output_type": "stream",
     "text": [
      "Enter K value: 3\n"
     ]
    }
   ],
   "source": [
    "K=int(input('Enter K value:'))  \n",
    "for point in br:\n",
    "    KNN(K,point)\n",
    "out.close()\n"
   ]
  },
  {
   "cell_type": "code",
   "execution_count": null,
   "metadata": {},
   "outputs": [],
   "source": []
  }
 ],
 "metadata": {
  "kernelspec": {
   "display_name": "Python 3",
   "language": "python",
   "name": "python3"
  },
  "language_info": {
   "codemirror_mode": {
    "name": "ipython",
    "version": 3
   },
   "file_extension": ".py",
   "mimetype": "text/x-python",
   "name": "python",
   "nbconvert_exporter": "python",
   "pygments_lexer": "ipython3",
   "version": "3.7.4"
  }
 },
 "nbformat": 4,
 "nbformat_minor": 4
}
