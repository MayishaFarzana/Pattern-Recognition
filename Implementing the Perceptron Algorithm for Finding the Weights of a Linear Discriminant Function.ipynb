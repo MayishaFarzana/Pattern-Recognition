{
 "cells": [
  {
   "cell_type": "code",
   "execution_count": 147,
   "metadata": {},
   "outputs": [
    {
     "data": {
      "text/plain": [
       "' Name: Mayisha Farzana \\n    ID: 160204028'"
      ]
     },
     "execution_count": 147,
     "metadata": {},
     "output_type": "execute_result"
    }
   ],
   "source": [
    "'''Asssignment 02'''\n",
    "''' Name: Mayisha Farzana \n",
    "    ID: 160204028'''\n"
   ]
  },
  {
   "cell_type": "code",
   "execution_count": 148,
   "metadata": {},
   "outputs": [
    {
     "name": "stdout",
     "output_type": "stream",
     "text": [
      "[[ 1.   1.   1. ]\n",
      " [ 1.  -1.   1. ]\n",
      " [ 2.   2.5  2. ]\n",
      " [ 0.   2.   2. ]\n",
      " [ 2.   3.   2. ]\n",
      " [ 4.   5.   1. ]]\n",
      "6\n",
      "x =  1.0 y =  1.0 class =  1.0\n",
      "x =  1.0 y =  -1.0 class =  1.0\n",
      "x =  2.0 y =  2.5 class =  2.0\n",
      "x =  0.0 y =  2.0 class =  2.0\n",
      "x =  2.0 y =  3.0 class =  2.0\n",
      "x =  4.0 y =  5.0 class =  1.0\n",
      "[[ 1.  1.  1.]\n",
      " [ 1. -1.  1.]\n",
      " [ 4.  5.  1.]]\n",
      "[[2.  2.5 2. ]\n",
      " [0.  2.  2. ]\n",
      " [2.  3.  2. ]]\n",
      "3\n",
      "3\n",
      "[[ 1.  1.  1.]\n",
      " [ 1. -1.  1.]\n",
      " [ 4.  5.  1.]]\n",
      "[[2.  2.5 2. ]\n",
      " [0.  2.  2. ]\n",
      " [2.  3.  2. ]]\n"
     ]
    },
    {
     "data": {
      "text/plain": [
       "<matplotlib.legend.Legend at 0x2a17d690d88>"
      ]
     },
     "execution_count": 148,
     "metadata": {},
     "output_type": "execute_result"
    },
    {
     "data": {
      "image/png": "[encoded data removed]",
      "text/plain": [
       "<Figure size 720x576 with 1 Axes>"
      ]
     },
     "metadata": {
      "needs_background": "light"
     },
     "output_type": "display_data"
    }
   ],
   "source": [
    "'''Problem 1 '''\n",
    "import numpy as np\n",
    "import matplotlib.pyplot as plt\n",
    "ar=np.loadtxt('train-perceptron.txt',dtype='float64')#loading the train and test data\n",
    "print(ar)\n",
    "s=len(ar)\n",
    "print(s)\n",
    "for x in  ar:\n",
    "    print(\"x = \",x[0],\"y = \",x[1],\"class = \",x[2]) #print the class names   \n",
    "ar_clas1=np.array([row for row in ar if row[2]==1])\n",
    "print(ar_clas1)\n",
    "ar_clas2=np.array([row for row in ar if row[2]==2])\n",
    "print(ar_clas2)    \n",
    "x_train_1=ar_clas1[:,0]\n",
    "y_train_1=ar_clas1[:,1]\n",
    "x_train_2=ar_clas2[:,0]\n",
    "y_train_2=ar_clas2[:,1]\n",
    "class1_len=len(ar_clas1)\n",
    "print(class1_len)\n",
    "class2_len=len(ar_clas2)\n",
    "print(class2_len)\n",
    "ar_clas1=np.array([row for row in ar if row[2]==1])\n",
    "print(ar_clas1)\n",
    "ar_clas2=np.array([row for row in ar if row[2]==2])\n",
    "print(ar_clas2)\n",
    "fig,ax=plt.subplots()#to show it in the same figure\n",
    "plt.title(\"Problem 1 output\")\n",
    "plt.xlabel('x-axis', color='black')\n",
    "plt.ylabel('y-axis', color='black')\n",
    "ax.scatter(x_train_1,y_train_1,marker='o',color='r',label='Train class 1')\n",
    "ax.scatter(x_train_2,y_train_2,marker='*',color='black',label='Train class 2')\n",
    "fig.set_figheight(8)\n",
    "fig.set_figwidth(10)\n",
    "ax.legend()#show the output figure"
   ]
  },
  {
   "cell_type": "code",
   "execution_count": 149,
   "metadata": {},
   "outputs": [
    {
     "name": "stdout",
     "output_type": "stream",
     "text": [
      "[4 9 6 2 3 1]\n"
     ]
    }
   ],
   "source": [
    "'''Problem 2'''\n",
    "##########PHI FUNCTION###########\n",
    "def get_phii(x1,x2):\n",
    "    return np.array([x1*x1,x2*x2,x1*x2,x1,x2,1])\n",
    "y=get_phii(2,3)\n",
    "print(y)"
   ]
  },
  {
   "cell_type": "code",
   "execution_count": 95,
   "metadata": {},
   "outputs": [
    {
     "name": "stdout",
     "output_type": "stream",
     "text": [
      "[1. 1. 1. 1. 1. 1.]\n",
      "[ 1.  1. -1.  1. -1.  1.]\n",
      "[16. 25. 20.  4.  5.  1.]\n",
      "[-4.   -6.25 -5.   -2.   -2.5  -1.  ]\n",
      "[ 0. -4.  0.  0. -2. -1.]\n",
      "[-4. -9. -6. -2. -3. -1.]\n"
     ]
    }
   ],
   "source": [
    "hd_y=[]#taking one list and store the class value\n",
    "#Storing the class values \n",
    "for row in ar_clas1:\n",
    "    hd_y.append(get_phii(row[0],row[1]))\n",
    "for row in ar_clas2:\n",
    "     hd_y.append(np.dot(get_phii(row[0],row[1]),-1)) \n",
    "     #Normalization: Negating here all the values to classify it    \n",
    "for x in hd_y:\n",
    "    print(x)\n"
   ]
  },
  {
   "cell_type": "code",
   "execution_count": 150,
   "metadata": {},
   "outputs": [],
   "source": [
    "#############  Batch Processing Function ####\n",
    "w=np.zeros_like(hd_y[0])\n",
    "def perceptron_many_at_a_time(learning_rate, w):\n",
    "    for itr in range(1000000000):\n",
    "        mc = False;#At first misclassify will be false that means the datas are misclassified\n",
    "        sum_y = np.zeros_like(hd_y[0])\n",
    "        for i in range(len(hd_y)):\n",
    "            val = np.dot(hd_y[i], w)#multiply the y values with weight vector in matrix multiplication\n",
    "            if (val <= 0.0):#Checking it if it is greater than zero whcih means it is correctly classified\n",
    "                mc = True#misclassified is true that means we do not need to update it's weight vector\n",
    "                sum_y = sum_y + hd_y[i]#the values which are misclassified we , adding the y values in here\n",
    "        sum_y = sum_y * learning_rate# alpha*sum(y)\n",
    "        w = w + sum_y#w=w+aplha*sum(y)\n",
    "        if (mc == False):\n",
    "            return itr + 1#if the datas are misclassified we need to do it again and we will count the iteration number\n",
    "    return -1 #when there will be no misclassified values we will return -1 fa\n"
   ]
  },
  {
   "cell_type": "code",
   "execution_count": 151,
   "metadata": {},
   "outputs": [],
   "source": [
    "\n",
    "#############  Single Processing Function ####\n",
    "w=np.zeros_like(hd_y[0])\n",
    "def perceptron_one_at_a_time(learning_rate, w):\n",
    "    for itr in range(1000000000):\n",
    "        mc = False;        \n",
    "        for i in range(len(hd_y)):\n",
    "            val = np.dot(hd_y[i], w)\n",
    "            if (val <= 0.0):\n",
    "                mc = True\n",
    "                sum_y = np.zeros_like(hd_y[0])\n",
    "                sum_y = sum_y + hd_y[i]\n",
    "                sum_y = sum_y * learning_rate\n",
    "                w = w + sum_y\n",
    "        if (mc == False):\n",
    "            return itr + 1\n",
    "    return -1"
   ]
  },
  {
   "cell_type": "code",
   "execution_count": 118,
   "metadata": {},
   "outputs": [
    {
     "name": "stdout",
     "output_type": "stream",
     "text": [
      "Initial Weight Vector = All Zero\n",
      "Alpha(Learning Rate)\t\tOne at a Time\t\tMany at a Time\n",
      "\t0.10\t\t\t\t94\t\t\t105\n",
      "\t0.20\t\t\t\t94\t\t\t105\n",
      "\t0.30\t\t\t\t94\t\t\t92\n",
      "\t0.40\t\t\t\t94\t\t\t105\n",
      "\t0.50\t\t\t\t94\t\t\t92\n",
      "\t0.60\t\t\t\t94\t\t\t105\n",
      "\t0.70\t\t\t\t94\t\t\t105\n",
      "\t0.80\t\t\t\t94\t\t\t105\n",
      "\t0.90\t\t\t\t94\t\t\t105\n",
      "\t1.00\t\t\t\t94\t\t\t92\n",
      "Initial Weight Vector = All One\n",
      "Alpha(Learning Rate)\t\tOne at a Time\t\tMany at a Time\n",
      "\t0.10\t\t\t\t6\t\t\t102\n",
      "\t0.20\t\t\t\t92\t\t\t104\n",
      "\t0.30\t\t\t\t104\t\t\t91\n",
      "\t0.40\t\t\t\t106\t\t\t116\n",
      "\t0.50\t\t\t\t93\t\t\t105\n",
      "\t0.60\t\t\t\t93\t\t\t114\n",
      "\t0.70\t\t\t\t108\t\t\t91\n",
      "\t0.80\t\t\t\t115\t\t\t91\n",
      "\t0.90\t\t\t\t94\t\t\t105\n",
      "\t1.00\t\t\t\t94\t\t\t93\n",
      "Initial Weight Vector = All Random\n",
      "Alpha(Learning Rate)\t\tOne at a Time\t\tMany at a Time\n",
      "\t0.10\t\t\t\t109\t\t\t125\n",
      "\t0.20\t\t\t\t100\t\t\t100\n",
      "\t0.30\t\t\t\t94\t\t\t126\n",
      "\t0.40\t\t\t\t98\t\t\t102\n",
      "\t0.50\t\t\t\t98\t\t\t115\n",
      "\t0.60\t\t\t\t112\t\t\t127\n",
      "\t0.70\t\t\t\t109\t\t\t101\n",
      "\t0.80\t\t\t\t108\t\t\t116\n",
      "\t0.90\t\t\t\t108\t\t\t116\n",
      "\t1.00\t\t\t\t115\t\t\t116\n"
     ]
    }
   ],
   "source": [
    "\n",
    "w=np.zeros_like(hd_y[0])\n",
    "print(\"Initial Weight Vector = All Zero\")\n",
    "print(\"Alpha(Learning Rate)\"+\"\\t\\t\"+\"One at a Time\"+\"\\t\\t\"+'Many at a Time')\n",
    "for learning_rate in np.arange(0.1,1.1,0.1):\n",
    "    print(\"\\t{:.2f}\".format(learning_rate)+'\\t\\t\\t\\t'+str(perceptron_one_at_a_time(learning_rate,w))+ \"\\t\\t\\t\" + str(perceptron_many_at_a_time(learning_rate, w)))\n",
    "\n",
    "    \n",
    "\n",
    "w=np.ones_like(hd_y[0])\n",
    "print(\"Initial Weight Vector = All One\")\n",
    "print(\"Alpha(Learning Rate)\"+\"\\t\\t\"+\"One at a Time\"+\"\\t\\t\"+'Many at a Time')\n",
    "for learning_rate in np.arange(0.1,1.1,0.1):\n",
    "    print(\"\\t{:.2f}\".format(learning_rate)+'\\t\\t\\t\\t'+str(perceptron_one_at_a_time(learning_rate,w))+ \"\\t\\t\\t\" + str(perceptron_many_at_a_time(learning_rate, w)))\n",
    "\n",
    "    \n",
    "np.random.seed(1)\n",
    "# weight vector zero\n",
    "w = np.random.uniform(0, 1, len(hd_y[0]))\n",
    "print(\"Initial Weight Vector = All Random\")\n",
    "print(\"Alpha(Learning Rate)\"+\"\\t\\t\"+\"One at a Time\"+\"\\t\\t\"+'Many at a Time')\n",
    "for learning_rate in np.arange(0.1, 1.1, 0.1):\n",
    "    print(\"\\t{:.2f}\".format(learning_rate) + \"\\t\\t\\t\\t\" + str(perceptron_one_at_a_time(learning_rate, w))+ \"\\t\\t\\t\" + str(perceptron_many_at_a_time(learning_rate, w)))\n",
    "    "
   ]
  },
  {
   "cell_type": "code",
   "execution_count": 141,
   "metadata": {},
   "outputs": [
    {
     "data": {
      "image/png": "[encoded data removed]",
      "text/plain": [
       "<Figure size 432x288 with 1 Axes>"
      ]
     },
     "metadata": {
      "needs_background": "light"
     },
     "output_type": "display_data"
    }
   ],
   "source": [
    "##############Bar Graph################\n",
    "##############Weight Vector Zero###########\n",
    "x_label = []\n",
    "for x in np.arange(0.1, 1.1, 0.1):\n",
    "    s = \"{:.1f}\".format(x)\n",
    "    x_label.append(s)\n",
    "\n",
    "one_at_a_time = []\n",
    "w=np.zeros_like(hd_y[0])\n",
    "tmp = []\n",
    "for learning_rate in np.arange(0.1, 1.1, 0.1):\n",
    "    a = perceptron_one_at_a_time(learning_rate, w)\n",
    "    one_at_a_time.append(a)\n",
    "many_at_a_time = []\n",
    "for learning_rate in np.arange(0.1, 1.1, 0.1):\n",
    "    b = perceptron_many_at_a_time(learning_rate, w)\n",
    "    many_at_a_time.append(b)\n",
    "\n",
    "bar_width = 0.3\n",
    "index = np.arange(10)\n",
    "plt.title('Initial Weight Vector All Zero')\n",
    "plt.bar(index, one_at_a_time, bar_width,label='One at a time')\n",
    "plt.bar(index + bar_width, many_at_a_time, bar_width, label='Many at a time')\n",
    "plt.xlabel('Learning Rate')\n",
    "plt.ylabel('No. of iterations')\n",
    "plt.xticks(index + bar_width, x_label)\n",
    "plt.legend()\n",
    "plt.show()"
   ]
  },
  {
   "cell_type": "code",
   "execution_count": 145,
   "metadata": {},
   "outputs": [
    {
     "data": {
      "image/png": "[encoded data removed]",
      "text/plain": [
       "<Figure size 432x288 with 1 Axes>"
      ]
     },
     "metadata": {
      "needs_background": "light"
     },
     "output_type": "display_data"
    }
   ],
   "source": [
    "################Bar Graph############\n",
    "#################Weight Vector One###############\n",
    "x_label = []\n",
    "for x in np.arange(0.1, 1.1, 0.1):\n",
    "    s = \"{:.1f}\".format(x)\n",
    "    x_label.append(s)\n",
    "\n",
    "one_at_a_time = []\n",
    "w=np.ones_like(hd_y[0])\n",
    "tmp = []\n",
    "for learning_rate in np.arange(0.1, 1.1, 0.1):\n",
    "    a = perceptron_one_at_a_time(learning_rate, w)\n",
    "    one_at_a_time.append(a)\n",
    "many_at_a_time = []\n",
    "for learning_rate in np.arange(0.1, 1.1, 0.1):\n",
    "    b = perceptron_many_at_a_time(learning_rate, w)\n",
    "    many_at_a_time.append(b)\n",
    "\n",
    "bar_width = 0.3\n",
    "index = np.arange(10)\n",
    "plt.title('Initial Weight Vector All One')\n",
    "plt.bar(index, one_at_a_time, bar_width,label='One at a time')\n",
    "plt.bar(index + bar_width, many_at_a_time, bar_width, label='Many at a time')\n",
    "plt.xlabel('Learning Rate')\n",
    "plt.ylabel('No. of iterations')\n",
    "plt.xticks(index + bar_width, x_label)\n",
    "plt.legend()\n",
    "plt.show()"
   ]
  },
  {
   "cell_type": "code",
   "execution_count": 144,
   "metadata": {},
   "outputs": [
    {
     "data": {
      "image/png": "[encoded data removed]",
      "text/plain": [
       "<Figure size 432x288 with 1 Axes>"
      ]
     },
     "metadata": {
      "needs_background": "light"
     },
     "output_type": "display_data"
    }
   ],
   "source": [
    "################Bar Graph############\n",
    "#################Weight Vector Random###############\n",
    "\n",
    "x_label = []\n",
    "for x in np.arange(0.1, 1.1, 0.1):\n",
    "    s = \"{:.1f}\".format(x)\n",
    "    x_label.append(s)\n",
    "\n",
    "one_at_a_time = []\n",
    "np.random.seed(1)\n",
    "w = np.random.uniform(0, 1, len(hd_y[0]))\n",
    "tmp = []\n",
    "for learning_rate in np.arange(0.1, 1.1, 0.1):\n",
    "    a = perceptron_one_at_a_time(learning_rate, w)\n",
    "    one_at_a_time.append(a)\n",
    "many_at_a_time = []\n",
    "for learning_rate in np.arange(0.1, 1.1, 0.1):\n",
    "    b = perceptron_many_at_a_time(learning_rate, w)\n",
    "    many_at_a_time.append(b)\n",
    "\n",
    "bar_width = 0.3\n",
    "index = np.arange(10)\n",
    "plt.title('Initial Weight Vector All Random')\n",
    "plt.bar(index, one_at_a_time, bar_width,label='One at a time')\n",
    "plt.bar(index + bar_width, many_at_a_time, bar_width, label='Many at a time')\n",
    "plt.xlabel('Learning Rate')\n",
    "plt.ylabel('No. of iterations')\n",
    "plt.xticks(index + bar_width, x_label)\n",
    "plt.legend()\n",
    "plt.show()\n"
   ]
  }
 ],
 "metadata": {
  "kernelspec": {
   "display_name": "Python 3",
   "language": "python",
   "name": "python3"
  },
  "language_info": {
   "codemirror_mode": {
    "name": "ipython",
    "version": 3
   },
   "file_extension": ".py",
   "mimetype": "text/x-python",
   "name": "python",
   "nbconvert_exporter": "python",
   "pygments_lexer": "ipython3",
   "version": "3.7.4"
  }
 },
 "nbformat": 4,
 "nbformat_minor": 4
}
